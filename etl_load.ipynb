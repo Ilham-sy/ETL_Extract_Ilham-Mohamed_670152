{
 "cells": [
  {
   "cell_type": "code",
   "execution_count": 1,
   "id": "78b4b5ee",
   "metadata": {},
   "outputs": [],
   "source": [
    "# Section: Load Transformed Data\n",
    "# Description: This script loads the transformed CSV files into a SQLite database.      \n",
    "import pandas as pd\n",
    "import sqlite3\n",
    "from pathlib import Path\n",
    "\n",
    "# Set up output directory\n",
    "output_dir = Path(\"loaded_data\")\n",
    "output_dir.mkdir(exist_ok=True)\n",
    "\n",
    "# Load transformed CSVs\n",
    "df_full = pd.read_csv(\"transformed_full.csv\", parse_dates=[\"start_time\", \"end_time\"])\n",
    "df_incremental = pd.read_csv(\"transformed_incremental.csv\", parse_dates=[\"start_time\", \"end_time\"])\n"
   ]
  },
  {
   "cell_type": "code",
   "execution_count": 2,
   "id": "5dc6d28d",
   "metadata": {},
   "outputs": [],
   "source": [
    "# Load full transformed data into SQLite database\n",
    "conn_full = sqlite3.connect(output_dir / \"full_data.db\")\n",
    "df_full.to_sql(\"full_data\", conn_full, if_exists=\"replace\", index=False)\n",
    "conn_full.close()\n"
   ]
  },
  {
   "cell_type": "code",
   "execution_count": 3,
   "id": "c18546d3",
   "metadata": {},
   "outputs": [],
   "source": [
    "# Load Incremental transformed data into SQLite database\n",
    "conn_inc = sqlite3.connect(output_dir / \"incremental_data.db\")\n",
    "df_incremental.to_sql(\"incremental_data\", conn_inc, if_exists=\"replace\", index=False)\n",
    "conn_inc.close()\n"
   ]
  },
  {
   "cell_type": "code",
   "execution_count": 4,
   "id": "af5c2bf8",
   "metadata": {},
   "outputs": [
    {
     "name": "stdout",
     "output_type": "stream",
     "text": [
      "Full Data Sample:\n"
     ]
    },
    {
     "data": {
      "text/html": [
       "<div>\n",
       "<style scoped>\n",
       "    .dataframe tbody tr th:only-of-type {\n",
       "        vertical-align: middle;\n",
       "    }\n",
       "\n",
       "    .dataframe tbody tr th {\n",
       "        vertical-align: top;\n",
       "    }\n",
       "\n",
       "    .dataframe thead th {\n",
       "        text-align: right;\n",
       "    }\n",
       "</style>\n",
       "<table border=\"1\" class=\"dataframe\">\n",
       "  <thead>\n",
       "    <tr style=\"text-align: right;\">\n",
       "      <th></th>\n",
       "      <th>session_id</th>\n",
       "      <th>user_id</th>\n",
       "      <th>device_type</th>\n",
       "      <th>start_time</th>\n",
       "      <th>end_time</th>\n",
       "      <th>session_duration_minutes</th>\n",
       "    </tr>\n",
       "  </thead>\n",
       "  <tbody>\n",
       "    <tr>\n",
       "      <th>0</th>\n",
       "      <td>175-WEB</td>\n",
       "      <td>USER_10</td>\n",
       "      <td>mobile</td>\n",
       "      <td>2025-05-03 18:24:00</td>\n",
       "      <td>2025-05-03 18:44:00</td>\n",
       "      <td>20.0</td>\n",
       "    </tr>\n",
       "    <tr>\n",
       "      <th>1</th>\n",
       "      <td>840-LOG</td>\n",
       "      <td>USER_18</td>\n",
       "      <td>desktop</td>\n",
       "      <td>2025-05-25 09:02:00</td>\n",
       "      <td>2025-05-25 09:26:00</td>\n",
       "      <td>24.0</td>\n",
       "    </tr>\n",
       "    <tr>\n",
       "      <th>2</th>\n",
       "      <td>089-USR</td>\n",
       "      <td>USER_14</td>\n",
       "      <td>tablet</td>\n",
       "      <td>2025-05-18 18:03:00</td>\n",
       "      <td>2025-05-18 18:58:00</td>\n",
       "      <td>55.0</td>\n",
       "    </tr>\n",
       "    <tr>\n",
       "      <th>3</th>\n",
       "      <td>931-APP</td>\n",
       "      <td>USER_4</td>\n",
       "      <td>mobile</td>\n",
       "      <td>2025-05-25 08:53:00</td>\n",
       "      <td>2025-05-25 10:32:00</td>\n",
       "      <td>99.0</td>\n",
       "    </tr>\n",
       "    <tr>\n",
       "      <th>4</th>\n",
       "      <td>109-LOG</td>\n",
       "      <td>USER_1</td>\n",
       "      <td>mobile</td>\n",
       "      <td>2025-05-22 02:21:00</td>\n",
       "      <td>2025-05-22 03:22:00</td>\n",
       "      <td>61.0</td>\n",
       "    </tr>\n",
       "  </tbody>\n",
       "</table>\n",
       "</div>"
      ],
      "text/plain": [
       "  session_id  user_id device_type           start_time             end_time  \\\n",
       "0    175-WEB  USER_10      mobile  2025-05-03 18:24:00  2025-05-03 18:44:00   \n",
       "1    840-LOG  USER_18     desktop  2025-05-25 09:02:00  2025-05-25 09:26:00   \n",
       "2    089-USR  USER_14      tablet  2025-05-18 18:03:00  2025-05-18 18:58:00   \n",
       "3    931-APP   USER_4      mobile  2025-05-25 08:53:00  2025-05-25 10:32:00   \n",
       "4    109-LOG   USER_1      mobile  2025-05-22 02:21:00  2025-05-22 03:22:00   \n",
       "\n",
       "   session_duration_minutes  \n",
       "0                      20.0  \n",
       "1                      24.0  \n",
       "2                      55.0  \n",
       "3                      99.0  \n",
       "4                      61.0  "
      ]
     },
     "metadata": {},
     "output_type": "display_data"
    }
   ],
   "source": [
    "# Display a sample of the loaded data\n",
    "conn_full = sqlite3.connect(output_dir / \"full_data.db\")\n",
    "print(\"Full Data Sample:\")\n",
    "display(pd.read_sql(\"SELECT * FROM full_data LIMIT 5\", conn_full))\n",
    "conn_full.close()\n"
   ]
  }
 ],
 "metadata": {
  "kernelspec": {
   "display_name": "Python 3",
   "language": "python",
   "name": "python3"
  },
  "language_info": {
   "codemirror_mode": {
    "name": "ipython",
    "version": 3
   },
   "file_extension": ".py",
   "mimetype": "text/x-python",
   "name": "python",
   "nbconvert_exporter": "python",
   "pygments_lexer": "ipython3",
   "version": "3.12.10"
  }
 },
 "nbformat": 4,
 "nbformat_minor": 5
}
