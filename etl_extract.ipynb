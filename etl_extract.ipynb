{
 "cells": [
  {
   "cell_type": "code",
   "execution_count": 24,
   "id": "94b4d241",
   "metadata": {},
   "outputs": [
    {
     "name": "stdout",
     "output_type": "stream",
     "text": [
      "  session_id user_id device_type           start_time             end_time\n",
      "0    410-LOG  user_8      tablet  2025-05-30T02:16:00  2025-05-30T02:24:00\n",
      "1    953-SFX  user_3      mobile  2025-05-29T03:51:00  2025-05-29T04:16:00\n",
      "2    920-APP  user_2     desktop  2025-05-01T06:31:00  2025-05-01T07:45:00\n",
      "3    264-NET  user_3     desktop  2025-05-31T12:24:00  2025-05-31T14:10:00\n",
      "4    530-DAT  user_4      mobile  2025-05-16T00:25:00  2025-05-16T00:31:00\n"
     ]
    }
   ],
   "source": [
    "import pandas as pd\n",
    "import random\n",
    "from datetime import datetime, timedelta\n",
    "\n",
    "# Configuration\n",
    "num_records = 50\n",
    "users = [f\"user_{i}\" for i in range(1, 21)]\n",
    "devices = ['desktop', 'mobile', 'tablet']\n",
    "short_words = ['LOG', 'ACT', 'WEB', 'APP', 'USR', 'NET', 'DAT', 'SFX']\n",
    "start_date = datetime(2025, 5, 1)\n",
    "\n",
    "# Generate synthetic session log data with custom session_id\n",
    "data = []\n",
    "for _ in range(num_records):\n",
    "    session_start = start_date + timedelta(\n",
    "        days=random.randint(0, 30),\n",
    "        hours=random.randint(0, 23),\n",
    "        minutes=random.randint(0, 59)\n",
    "    )\n",
    "    session_length = timedelta(minutes=random.randint(5, 120))\n",
    "    session_end = session_start + session_length\n",
    "\n",
    "    session_id = f\"{random.randint(0, 999):03d}-{random.choice(short_words)}\"\n",
    "\n",
    "    data.append({\n",
    "        'session_id': session_id,\n",
    "        'user_id': random.choice(users),\n",
    "        'device_type': random.choice(devices),\n",
    "        'start_time': session_start.isoformat(),\n",
    "        'end_time': session_end.isoformat(),\n",
    "        \n",
    "    })\n",
    "\n",
    "# Create DataFrame and save to CSV\n",
    "df = pd.DataFrame(data)\n",
    "df.to_csv('user_sessions.csv', index=False)\n",
    "\n",
    "# Preview\n",
    "print(df.head())\n"
   ]
  },
  {
   "cell_type": "code",
   "execution_count": 25,
   "id": "a4e22d0c",
   "metadata": {},
   "outputs": [
    {
     "name": "stdout",
     "output_type": "stream",
     "text": [
      "Extracted 50 rows fully.\n",
      "  session_id user_id device_type          start_time            end_time\n",
      "0    410-LOG  user_8      tablet 2025-05-30 02:16:00 2025-05-30 02:24:00\n",
      "1    953-SFX  user_3      mobile 2025-05-29 03:51:00 2025-05-29 04:16:00\n",
      "2    920-APP  user_2     desktop 2025-05-01 06:31:00 2025-05-01 07:45:00\n",
      "3    264-NET  user_3     desktop 2025-05-31 12:24:00 2025-05-31 14:10:00\n",
      "4    530-DAT  user_4      mobile 2025-05-16 00:25:00 2025-05-16 00:31:00\n"
     ]
    }
   ],
   "source": [
    "# SECTION 2: Full Extraction\n",
    "df_full = pd.read_csv(\"user_sessions.csv\", parse_dates=[\"start_time\", \"end_time\"])\n",
    "print(f\"Extracted {len(df_full)} rows fully.\")\n",
    "print(df_full.head())\n"
   ]
  },
  {
   "cell_type": "code",
   "execution_count": 26,
   "id": "d844ee1c",
   "metadata": {},
   "outputs": [],
   "source": [
    "# SECTION 3: Simulate Initial Last Extraction Time\n",
    "with open(\"last_extraction.txt\", \"w\") as f:\n",
    "    f.write(\"2025-04-15 12:00:00\")\n",
    "\n"
   ]
  },
  {
   "cell_type": "code",
   "execution_count": 27,
   "id": "bc35f493",
   "metadata": {},
   "outputs": [
    {
     "name": "stdout",
     "output_type": "stream",
     "text": [
      "Extracted 50 rows incrementally since 2025-04-15 12:00:00.\n",
      "  session_id user_id device_type          start_time            end_time\n",
      "0    410-LOG  user_8      tablet 2025-05-30 02:16:00 2025-05-30 02:24:00\n",
      "1    953-SFX  user_3      mobile 2025-05-29 03:51:00 2025-05-29 04:16:00\n",
      "2    920-APP  user_2     desktop 2025-05-01 06:31:00 2025-05-01 07:45:00\n",
      "3    264-NET  user_3     desktop 2025-05-31 12:24:00 2025-05-31 14:10:00\n",
      "4    530-DAT  user_4      mobile 2025-05-16 00:25:00 2025-05-16 00:31:00\n"
     ]
    }
   ],
   "source": [
    "# SECTION 4: Incremental Extraction\n",
    "with open(\"last_extraction.txt\", \"r\") as f:\n",
    "    last_extraction = f.read().strip()\n",
    "\n",
    "df = pd.read_csv(\"user_sessions.csv\", parse_dates=[\"start_time\", \"end_time\"])\n",
    "last_extraction_time = pd.to_datetime(last_extraction)\n",
    "df_incremental = df[df['start_time'] > last_extraction_time]\n",
    "\n",
    "print(f\"Extracted {len(df_incremental)} rows incrementally since {last_extraction}.\")\n",
    "print(df_incremental.head())\n"
   ]
  },
  {
   "cell_type": "code",
   "execution_count": 28,
   "id": "5a1b0754",
   "metadata": {},
   "outputs": [
    {
     "name": "stdout",
     "output_type": "stream",
     "text": [
      "Updated last_extraction.txt to 2025-05-31 12:24:00\n"
     ]
    }
   ],
   "source": [
    "# SECTION 5: Save New Timestamp\n",
    "new_checkpoint = df['start_time'].max()\n",
    "with open(\"last_extraction.txt\", \"w\") as f:\n",
    "    f.write(new_checkpoint.isoformat())\n",
    "\n",
    "print(f\"Updated last_extraction.txt to {new_checkpoint}\")\n"
   ]
  }
 ],
 "metadata": {
  "kernelspec": {
   "display_name": "Python 3",
   "language": "python",
   "name": "python3"
  },
  "language_info": {
   "codemirror_mode": {
    "name": "ipython",
    "version": 3
   },
   "file_extension": ".py",
   "mimetype": "text/x-python",
   "name": "python",
   "nbconvert_exporter": "python",
   "pygments_lexer": "ipython3",
   "version": "3.12.10"
  }
 },
 "nbformat": 4,
 "nbformat_minor": 5
}
