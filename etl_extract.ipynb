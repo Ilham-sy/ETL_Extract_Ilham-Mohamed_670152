{
 "cells": [
  {
   "cell_type": "code",
   "execution_count": 9,
   "id": "94b4d241",
   "metadata": {},
   "outputs": [
    {
     "name": "stdout",
     "output_type": "stream",
     "text": [
      "  session_id  user_id device_type           start_time             end_time\n",
      "0    175-WEB  user_10      mobile  2025-05-03T18:24:00  2025-05-03T18:44:00\n",
      "1    840-LOG  user_18     desktop  2025-05-25T09:02:00  2025-05-25T09:26:00\n",
      "2    089-USR  user_14      tablet  2025-05-18T18:03:00  2025-05-18T18:58:00\n",
      "3    931-APP   user_4      mobile  2025-05-25T08:53:00  2025-05-25T10:32:00\n",
      "4    109-LOG   user_1      mobile  2025-05-22T02:21:00  2025-05-22T03:22:00\n"
     ]
    }
   ],
   "source": [
    "import pandas as pd\n",
    "import random\n",
    "from datetime import datetime, timedelta\n",
    "\n",
    "# Configuration\n",
    "num_records = 50\n",
    "users = [f\"user_{i}\" for i in range(1, 21)]\n",
    "devices = ['desktop', 'mobile', 'tablet']\n",
    "short_words = ['LOG', 'ACT', 'WEB', 'APP', 'USR', 'NET', 'DAT', 'SFX']\n",
    "start_date = datetime(2025, 5, 1)\n",
    "\n",
    "# Generate synthetic session log data with custom session_id\n",
    "data = []\n",
    "for _ in range(num_records):\n",
    "    session_start = start_date + timedelta(\n",
    "        days=random.randint(0, 30),\n",
    "        hours=random.randint(0, 23),\n",
    "        minutes=random.randint(0, 59)\n",
    "    )\n",
    "    session_length = timedelta(minutes=random.randint(5, 120))\n",
    "    session_end = session_start + session_length\n",
    "\n",
    "    session_id = f\"{random.randint(0, 999):03d}-{random.choice(short_words)}\"\n",
    "\n",
    "    data.append({\n",
    "        'session_id': session_id,\n",
    "        'user_id': random.choice(users),\n",
    "        'device_type': random.choice(devices),\n",
    "        'start_time': session_start.isoformat(),\n",
    "        'end_time': session_end.isoformat(),\n",
    "        \n",
    "    })\n",
    "\n",
    "# Create DataFrame and save to CSV\n",
    "df = pd.DataFrame(data)\n",
    "df.to_csv('user_sessions.csv', index=False)\n",
    "\n",
    "# Preview\n",
    "print(df.head())\n"
   ]
  },
  {
   "cell_type": "code",
   "execution_count": 10,
   "id": "a4e22d0c",
   "metadata": {},
   "outputs": [
    {
     "name": "stdout",
     "output_type": "stream",
     "text": [
      "Extracted 50 rows fully.\n",
      "  session_id  user_id device_type          start_time            end_time\n",
      "0    175-WEB  user_10      mobile 2025-05-03 18:24:00 2025-05-03 18:44:00\n",
      "1    840-LOG  user_18     desktop 2025-05-25 09:02:00 2025-05-25 09:26:00\n",
      "2    089-USR  user_14      tablet 2025-05-18 18:03:00 2025-05-18 18:58:00\n",
      "3    931-APP   user_4      mobile 2025-05-25 08:53:00 2025-05-25 10:32:00\n",
      "4    109-LOG   user_1      mobile 2025-05-22 02:21:00 2025-05-22 03:22:00\n"
     ]
    }
   ],
   "source": [
    "# SECTION 2: Full Extraction\n",
    "df_full = pd.read_csv(\"user_sessions.csv\", parse_dates=[\"start_time\", \"end_time\"])\n",
    "print(f\"Extracted {len(df_full)} rows fully.\")\n",
    "print(df_full.head())\n"
   ]
  },
  {
   "cell_type": "code",
   "execution_count": 11,
   "id": "d844ee1c",
   "metadata": {},
   "outputs": [],
   "source": [
    "# SECTION 3: Simulate Initial Last Extraction Time\n",
    "with open(\"last_extraction.txt\", \"w\") as f:\n",
    "    f.write(\"2025-04-15 12:00:00\")\n",
    "\n"
   ]
  },
  {
   "cell_type": "code",
   "execution_count": 12,
   "id": "bc35f493",
   "metadata": {},
   "outputs": [
    {
     "name": "stdout",
     "output_type": "stream",
     "text": [
      "Extracted 50 rows incrementally since 2025-04-15 12:00:00.\n",
      "  session_id  user_id device_type          start_time            end_time\n",
      "0    175-WEB  user_10      mobile 2025-05-03 18:24:00 2025-05-03 18:44:00\n",
      "1    840-LOG  user_18     desktop 2025-05-25 09:02:00 2025-05-25 09:26:00\n",
      "2    089-USR  user_14      tablet 2025-05-18 18:03:00 2025-05-18 18:58:00\n",
      "3    931-APP   user_4      mobile 2025-05-25 08:53:00 2025-05-25 10:32:00\n",
      "4    109-LOG   user_1      mobile 2025-05-22 02:21:00 2025-05-22 03:22:00\n"
     ]
    }
   ],
   "source": [
    "# SECTION 4: Incremental Extraction\n",
    "with open(\"last_extraction.txt\", \"r\") as f:\n",
    "    last_extraction = f.read().strip()\n",
    "\n",
    "df = pd.read_csv(\"user_sessions.csv\", parse_dates=[\"start_time\", \"end_time\"])\n",
    "last_extraction_time = pd.to_datetime(last_extraction)\n",
    "df_incremental = df[df['start_time'] > last_extraction_time]\n",
    "\n",
    "print(f\"Extracted {len(df_incremental)} rows incrementally since {last_extraction}.\")\n",
    "print(df_incremental.head())\n"
   ]
  },
  {
   "cell_type": "code",
   "execution_count": 13,
   "id": "5a1b0754",
   "metadata": {},
   "outputs": [
    {
     "name": "stdout",
     "output_type": "stream",
     "text": [
      "Updated last_extraction.txt to 2025-05-30 04:23:00\n"
     ]
    }
   ],
   "source": [
    "# SECTION 5: Save New Timestamp\n",
    "new_checkpoint = df['start_time'].max()\n",
    "with open(\"last_extraction.txt\", \"w\") as f:\n",
    "    f.write(new_checkpoint.isoformat())\n",
    "\n",
    "print(f\"Updated last_extraction.txt to {new_checkpoint}\")\n"
   ]
  },
  {
   "cell_type": "code",
   "execution_count": 14,
   "id": "3c9eff93",
   "metadata": {},
   "outputs": [
    {
     "name": "stdout",
     "output_type": "stream",
     "text": [
      "✅ Transformed full dataset with 50 records.\n",
      "  session_id  user_id device_type          start_time            end_time  \\\n",
      "0    175-WEB  USER_10      mobile 2025-05-03 18:24:00 2025-05-03 18:44:00   \n",
      "1    840-LOG  USER_18     desktop 2025-05-25 09:02:00 2025-05-25 09:26:00   \n",
      "2    089-USR  USER_14      tablet 2025-05-18 18:03:00 2025-05-18 18:58:00   \n",
      "3    931-APP   USER_4      mobile 2025-05-25 08:53:00 2025-05-25 10:32:00   \n",
      "4    109-LOG   USER_1      mobile 2025-05-22 02:21:00 2025-05-22 03:22:00   \n",
      "\n",
      "   session_duration_minutes  \n",
      "0                      20.0  \n",
      "1                      24.0  \n",
      "2                      55.0  \n",
      "3                      99.0  \n",
      "4                      61.0  \n"
     ]
    }
   ],
   "source": [
    "\n",
    "# SECTION 6: Transform Full Data\n",
    "\n",
    "# Reload full dataset in case it's not in memory\n",
    "df_full = pd.read_csv(\"user_sessions.csv\", parse_dates=[\"start_time\", \"end_time\"])\n",
    "\n",
    "# 1. CLEANING: Remove duplicates\n",
    "df_full.drop_duplicates(inplace=True)\n",
    "\n",
    "# 2. ENRICHMENT: Add session duration in minutes\n",
    "df_full[\"session_duration_minutes\"] = (df_full[\"end_time\"] - df_full[\"start_time\"]).dt.total_seconds() / 60\n",
    "\n",
    "# 3. STRUCTURAL: Standardize user_id to uppercase\n",
    "df_full[\"user_id\"] = df_full[\"user_id\"].str.upper()\n",
    "\n",
    "# Save transformed full data\n",
    "df_full.to_csv(\"transformed_full.csv\", index=False)\n",
    "\n",
    "print(f\"✅ Transformed full dataset with {len(df_full)} records.\")\n",
    "print(df_full.head())\n",
    "\n"
   ]
  },
  {
   "cell_type": "code",
   "execution_count": 15,
   "id": "acad92ba",
   "metadata": {},
   "outputs": [
    {
     "name": "stdout",
     "output_type": "stream",
     "text": [
      "✅ Transformed incremental dataset with 50 records.\n",
      "  session_id  user_id device_type          start_time            end_time  \\\n",
      "0    175-WEB  USER_10      mobile 2025-05-03 18:24:00 2025-05-03 18:44:00   \n",
      "1    840-LOG  USER_18     desktop 2025-05-25 09:02:00 2025-05-25 09:26:00   \n",
      "2    089-USR  USER_14      tablet 2025-05-18 18:03:00 2025-05-18 18:58:00   \n",
      "3    931-APP   USER_4      mobile 2025-05-25 08:53:00 2025-05-25 10:32:00   \n",
      "4    109-LOG   USER_1      mobile 2025-05-22 02:21:00 2025-05-22 03:22:00   \n",
      "\n",
      "   session_duration_minutes  \n",
      "0                      20.0  \n",
      "1                      24.0  \n",
      "2                      55.0  \n",
      "3                      99.0  \n",
      "4                      61.0  \n"
     ]
    }
   ],
   "source": [
    "# SECTION 7: Transform Incremental Data\n",
    "\n",
    "# Ensure df_incremental exists — if not, re-create it\n",
    "try:\n",
    "    df_incremental\n",
    "except NameError:\n",
    "    df = pd.read_csv(\"user_sessions.csv\", parse_dates=[\"start_time\", \"end_time\"])\n",
    "    with open(\"last_extraction.txt\", \"r\") as f:\n",
    "        last_extraction = f.read().strip()\n",
    "    last_extraction_time = pd.to_datetime(last_extraction)\n",
    "    df_incremental = df[df[\"start_time\"] > last_extraction_time]\n",
    "\n",
    "# 1. CLEANING: Remove duplicates\n",
    "df_incremental.drop_duplicates(inplace=True)\n",
    "\n",
    "# 2. ENRICHMENT: Add session duration\n",
    "df_incremental[\"session_duration_minutes\"] = (df_incremental[\"end_time\"] - df_incremental[\"start_time\"]).dt.total_seconds() / 60\n",
    "\n",
    "# 3. STRUCTURAL: Standardize user_id\n",
    "df_incremental[\"user_id\"] = df_incremental[\"user_id\"].str.upper()\n",
    "\n",
    "# Save transformed incremental data\n",
    "df_incremental.to_csv(\"transformed_incremental.csv\", index=False)\n",
    "\n",
    "print(f\"✅ Transformed incremental dataset with {len(df_incremental)} records.\")\n",
    "print(df_incremental.head())\n"
   ]
  }
 ],
 "metadata": {
  "kernelspec": {
   "display_name": "Python 3",
   "language": "python",
   "name": "python3"
  },
  "language_info": {
   "codemirror_mode": {
    "name": "ipython",
    "version": 3
   },
   "file_extension": ".py",
   "mimetype": "text/x-python",
   "name": "python",
   "nbconvert_exporter": "python",
   "pygments_lexer": "ipython3",
   "version": "3.12.10"
  }
 },
 "nbformat": 4,
 "nbformat_minor": 5
}
